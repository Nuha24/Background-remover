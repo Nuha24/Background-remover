{
  "cells": [
    {
      "cell_type": "code",
      "execution_count": null,
      "metadata": {
        "id": "tpmv12k-xhB-"
      },
      "outputs": [],
      "source": [
        "import os\n",
        "import numpy as np\n",
        "from tensorflow.keras.preprocessing import image\n",
        "from tensorflow.keras.preprocessing.image import ImageDataGenerator\n",
        "import matplotlib.pyplot as plt\n",
        "from google.colab import drive"
      ]
    },
    {
      "cell_type": "code",
      "execution_count": null,
      "metadata": {
        "colab": {
          "base_uri": "https://localhost:8080/"
        },
        "id": "YEx7CGTSxeh6",
        "outputId": "8b32f170-368e-4bee-d4ac-dc5867d8ce57"
      },
      "outputs": [
        {
          "name": "stdout",
          "output_type": "stream",
          "text": [
            "Drive already mounted at /content/drive; to attempt to forcibly remount, call drive.mount(\"/content/drive\", force_remount=True).\n"
          ]
        }
      ],
      "source": [
        "# prompt: google drive link\n",
        "from google.colab import drive\n",
        "drive.mount('/content/drive')"
      ]
    },
    {
      "cell_type": "code",
      "execution_count": null,
      "metadata": {
        "id": "jrE0DrtUwTxS"
      },
      "outputs": [],
      "source": [
        "import os\n",
        "import cv2\n",
        "from tensorflow.keras.preprocessing.image import ImageDataGenerator\n",
        "\n",
        "# Parent folder containing 10 class folders (adjust the path to your actual dataset)\n",
        "parent_folder = '/content/drive/MyDrive/OldImage'  # Example path, change accordingly\n",
        "\n",
        "# Output folder for augmented images\n",
        "output_folder = '/content/drive/MyDrive/NewImage'  # Example path, change accordingly\n",
        "\n",
        "# Create the output folder if it doesn't exist\n",
        "os.makedirs(output_folder, exist_ok=True)\n",
        "\n",
        "# Create an ImageDataGenerator for augmentation\n",
        "datagen = ImageDataGenerator(\n",
        "    rotation_range=30,  # Rotate image by a random angle between -30 and 30 degrees\n",
        "    shear_range=0.2,    # Apply random shear transformations with a factor of 0.2\n",
        "    zoom_range=0.2,     # Apply random zoom in/out between 80% to 120%\n",
        "    width_shift_range=0.2,  # Randomly shift the image horizontally by 20%\n",
        "    height_shift_range=0.2,  # Randomly shift the image vertically by 20%\n",
        "    vertical_flip=True,  # Flip the image vertically (up and down)\n",
        "    horizontal_flip=True  # Flip the image horizontally (left and right)\n",
        ")\n",
        "\n",
        "# Function to apply augmentation to a single image and save the augmented images\n",
        "def augment_and_save(image_path, output_folder, num_augmentations=4):  # Maximum of 4 images per original image\n",
        "    img = cv2.imread(image_path)\n",
        "    img = cv2.cvtColor(img, cv2.COLOR_BGR2RGB)  # Convert BGR (OpenCV default) to RGB\n",
        "\n",
        "    # Reshape the image to (1, height, width, channels) for the generator\n",
        "    img = img.reshape((1,) + img.shape)\n",
        "\n",
        "    # Create the generator\n",
        "    aug_iter = datagen.flow(img, batch_size=1)\n",
        "\n",
        "    # Apply augmentation and save the images\n",
        "    for i in range(num_augmentations):\n",
        "        augmented_img = next(aug_iter)[0]  # Use next() instead of .next()\n",
        "        augmented_img_path = os.path.join(output_folder, f\"augmented_{i+1}_{os.path.basename(image_path)}\")\n",
        "        augmented_img = cv2.cvtColor(augmented_img, cv2.COLOR_RGB2BGR)  # Convert back to BGR for saving\n",
        "        cv2.imwrite(augmented_img_path, augmented_img)  # Save the augmented image\n",
        "\n",
        "# Iterate over each class folder\n",
        "for class_folder in os.listdir(parent_folder):\n",
        "    class_folder_path = os.path.join(parent_folder, class_folder)\n",
        "\n",
        "    # Ensure we are working with a directory and not a file\n",
        "    if os.path.isdir(class_folder_path):\n",
        "        # Create the corresponding output folder for augmented images\n",
        "        class_output_folder = os.path.join(output_folder, class_folder)\n",
        "        os.makedirs(class_output_folder, exist_ok=True)\n",
        "\n",
        "        # Iterate over each image in the class folder\n",
        "        for filename in os.listdir(class_folder_path):\n",
        "            image_path = os.path.join(class_folder_path, filename)\n",
        "            if os.path.isfile(image_path):\n",
        "                augment_and_save(image_path, class_output_folder)\n"
      ]
    }
  ],
  "metadata": {
    "colab": {
      "provenance": []
    },
    "kernelspec": {
      "display_name": "Python 3",
      "name": "python3"
    },
    "language_info": {
      "name": "python"
    }
  },
  "nbformat": 4,
  "nbformat_minor": 0
}
